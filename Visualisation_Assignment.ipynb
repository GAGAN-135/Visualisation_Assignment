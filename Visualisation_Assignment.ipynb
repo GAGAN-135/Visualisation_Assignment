{
  "nbformat": 4,
  "nbformat_minor": 0,
  "metadata": {
    "colab": {
      "private_outputs": true,
      "provenance": []
    },
    "kernelspec": {
      "name": "python3",
      "display_name": "Python 3"
    },
    "language_info": {
      "name": "python"
    }
  },
  "cells": [
    {
      "cell_type": "code",
      "execution_count": null,
      "metadata": {
        "id": "kEWxc6I6a20Q"
      },
      "outputs": [],
      "source": [
        "import numpy as np\n",
        "import pandas as pd\n",
        "import matplotlib.pyplot as plt\n",
        "import seaborn as sns\n",
        "import plotly.graph_objects as go\n",
        "import plotly.express as px"
      ]
    },
    {
      "cell_type": "code",
      "source": [
        "#MATPLOTLIB ASSIGNMENT:-"
      ],
      "metadata": {
        "id": "5YqE1T9qnMuu"
      },
      "execution_count": null,
      "outputs": []
    },
    {
      "cell_type": "code",
      "source": [
        "'''Q1- Create a scatter plot using Matplotlib to visualize the relationship between two arrays, x and y for the given\n",
        "data x = [1, 2, 3, 4, 5, 6, 7, 8, 9, 10]\n",
        "y = [2, 4, 5, 7, 6, 8, 9, 10, 12, 13]'''\n",
        "x = [1, 2, 3, 4, 5, 6, 7, 8, 9, 10]\n",
        "y = [2, 4, 5, 7, 6, 8, 9, 10, 12, 13]\n",
        "plt.scatter(x,y,color='r',marker='o')\n",
        "plt.title('data')\n",
        "plt.xlabel('X')\n",
        "plt.ylabel('Y')\n",
        "plt.show()"
      ],
      "metadata": {
        "id": "3f9TH_dfiuZo"
      },
      "execution_count": null,
      "outputs": []
    },
    {
      "cell_type": "code",
      "source": [
        "'''Q2-Generate a line plot to visualize the trend of values for the given data.\n",
        "data = np.array([3, 7, 9, 15, 22, 29, 35])'''\n",
        "data = np.array([3, 7, 9, 15, 22, 29, 35])\n",
        "plt.plot(data, marker='o', linestyle=':', color='b')\n",
        "plt.show()"
      ],
      "metadata": {
        "id": "gcfPhYwzi_9P"
      },
      "execution_count": null,
      "outputs": []
    },
    {
      "cell_type": "code",
      "source": [
        "'''Q3- Display a bar chart to represent the frequency of each item in the given array categories categories = ['A', 'B', 'C', 'D', 'E']\n",
        "values = [25, 40, 30, 35, 20]'''\n",
        "categories = ['A', 'B', 'C', 'D', 'E']\n",
        "values = [25, 40, 30, 35, 20]\n",
        "plt.bar(categories, values, color='skyblue')\n",
        "plt.title('Frequency of Each Category')\n",
        "plt.xlabel('Categories')\n",
        "plt.ylabel('Frequency')\n",
        "plt.show()"
      ],
      "metadata": {
        "id": "WoS2qfB-jS_W"
      },
      "execution_count": null,
      "outputs": []
    },
    {
      "cell_type": "code",
      "source": [
        "'''Q4-. Create a histogram to visualize the distribution of values in the array data\n",
        "data = np.random.normal(0, 1, 1000)'''\n",
        "data = np.random.normal(0, 1, 1000)\n",
        "plt.hist(data, bins=30, color='grey')\n",
        "plt.show()"
      ],
      "metadata": {
        "id": "2LXb61jXkYO2"
      },
      "execution_count": null,
      "outputs": []
    },
    {
      "cell_type": "code",
      "source": [
        "'''Q5-Show a pie chart to represent the percentage distribution of different sections in the array `sections`.\n",
        "sections = ['Section A', 'Section B', 'Section C', 'Section D']\n",
        "sizes = [25, 30, 15, 30]'''\n",
        "sections = ['Section A', 'Section B', 'Section C', 'Section D']\n",
        "sizes = [25, 30, 15, 30]\n",
        "plt.pie(sizes, labels=sections, autopct='%1.1d%%')\n",
        "plt.title('Distribution of Sections')\n",
        "plt.show()"
      ],
      "metadata": {
        "id": "u9F2xjPBktMj"
      },
      "execution_count": null,
      "outputs": []
    },
    {
      "cell_type": "code",
      "source": [
        "#SEABORN ASSIGNMENT:-"
      ],
      "metadata": {
        "id": "9tAo-y1EmuFW"
      },
      "execution_count": null,
      "outputs": []
    },
    {
      "cell_type": "code",
      "source": [
        "'''Q1- Create a scatter plot to visualize the relationship between two variables, by generating a synthetic\n",
        "dataset.'''\n",
        "sns.get_dataset_names()\n",
        "df= sns.load_dataset('tips')\n",
        "sns.scatterplot(x = 'total_bill', y = 'tip',data= df,hue='smoker')"
      ],
      "metadata": {
        "id": "ZEH7HcfZnTeP"
      },
      "execution_count": null,
      "outputs": []
    },
    {
      "cell_type": "code",
      "source": [
        "'''Q2- Generate a dataset of random numbers. Visualize the distribution of a numerical variable'''\n",
        "data = np.random.normal(0,1,1000)\n",
        "sns.distplot(data, kde=True, color=\"blue\")"
      ],
      "metadata": {
        "id": "7vh0dOplwAtz"
      },
      "execution_count": null,
      "outputs": []
    },
    {
      "cell_type": "code",
      "source": [
        "'''Q3-. Create a dataset representing categories and their corresponding values. Compare different categories\n",
        "based on numerical values'''\n",
        "data = {\n",
        "    'Category': ['A', 'B', 'C', 'D', 'E'],\n",
        "    'Value': [25, 40, 30, 35, 20]\n",
        "}\n",
        "df=pd.DataFrame(data)\n",
        "sns.barplot(x='Category', y='Value', data=df, palette='pastel')"
      ],
      "metadata": {
        "id": "QYsFNbdkYyUo"
      },
      "execution_count": null,
      "outputs": []
    },
    {
      "cell_type": "code",
      "source": [
        "'''Q4- Generate a dataset with categories and numerical values. Visualize the distribution of a numerical\n",
        "variable across different categories'''\n",
        "data = {\n",
        "    'Category': ['A', 'A', 'B', 'B', 'B', 'C', 'C', 'C', 'C', 'C'],\n",
        "    'Value': [25, 30, 40, 35, 38, 20, 22, 24, 28, 30]\n",
        "}\n",
        "df = pd.DataFrame(data)\n",
        "sns.boxplot(x='Category', y='Value', data=df, palette='pastel')"
      ],
      "metadata": {
        "id": "ZwQrztTNaDYc"
      },
      "execution_count": null,
      "outputs": []
    },
    {
      "cell_type": "code",
      "source": [
        "'''Q5-Generate a synthetic dataset with correlated features. Visualize the correlation matrix of a dataset using a\n",
        "heatmap'''\n",
        "df= sns.load_dataset('tips')\n",
        "tips=df[['total_bill','tip','size']]\n",
        "print(tips.corr())\n",
        "sns.heatmap(tips.corr(), cmap = \"Pastel1\", annot = True)"
      ],
      "metadata": {
        "id": "W9Sa4sfFbbDd"
      },
      "execution_count": null,
      "outputs": []
    },
    {
      "cell_type": "code",
      "source": [
        "#PLOTLY ASSIGNMENT:-"
      ],
      "metadata": {
        "id": "5uDGPx5jbhCg"
      },
      "execution_count": null,
      "outputs": []
    },
    {
      "cell_type": "code",
      "source": [
        "'''Q1- Using the given dataset, to generate a 3D scatter plot to visualize the distribution of data points in a three\u0002dimensional space.-\n",
        "np.random.seed(30)\n",
        "data = {\n",
        "    'X': np.random.uniform(-10, 10, 300),\n",
        "    'Y': np.random.uniform(-10, 10, 300),\n",
        "    'Z': np.random.uniform(-10, 10, 300)\n",
        "}\n",
        "df = pd.DataFrame(data)'''\n",
        "np.random.seed(30)\n",
        "data = {\n",
        "    'X': np.random.uniform(-10, 10, 300),\n",
        "    'Y': np.random.uniform(-10, 10, 300),\n",
        "    'Z': np.random.uniform(-10, 10, 300)\n",
        "}\n",
        "df = pd.DataFrame(data)\n",
        "fig = px.scatter_3d(df, x='X', y='Y', z='Z', title='3D Scatter Plot')\n",
        "fig.show()"
      ],
      "metadata": {
        "id": "qt-k7mO3bikm"
      },
      "execution_count": null,
      "outputs": []
    },
    {
      "cell_type": "code",
      "source": [
        "'''Q2- Using the Student Grades, create a violin plot to display the distribution of scores across different grade\n",
        "categories'''\n",
        "np.random.seed(15)\n",
        "data = {\n",
        "    'Grade': np.random.choice(['A', 'B', 'C', 'D', 'F'], 200),\n",
        "    'Score': np.random.randint(50, 100, 200)\n",
        "}\n",
        "df = pd.DataFrame(data)\n",
        "fig = px.violin(df, x='Grade', y='Score', box=True,points=\"all\", title='Distribution of Scores Across Grade Categories')\n",
        "fig.show()"
      ],
      "metadata": {
        "id": "BWXeovJsXuD2"
      },
      "execution_count": null,
      "outputs": []
    },
    {
      "cell_type": "code",
      "source": [
        "# Using the sales data, generate a heatmap to visualize the variation in sales across\n",
        "#different months and days.\n",
        "np.random.seed(20)\n",
        "data = {\n",
        "    'Month': np.random.choice(['Jan', 'Feb', 'Mar', 'Apr', 'May'], 100),\n",
        "    'Day': np.random.choice(range(1, 31), 100),\n",
        "    'Sales': np.random.randint(1000, 5000, 100)\n",
        "}\n",
        "df = pd.DataFrame(data)\n",
        "heatmap_data = df.pivot_table(index='Day', columns='Month', values='Sales', aggfunc='sum')\n",
        "fig = px.imshow(heatmap_data, labels={'x':\"Month\", 'y':\"Day\", 'color':\"Sales\"}, title='Sales Variation Across Months and Days')\n",
        "fig.show()"
      ],
      "metadata": {
        "id": "nf96QfvuYkru"
      },
      "execution_count": null,
      "outputs": []
    },
    {
      "cell_type": "code",
      "source": [
        "'''Q3-. Using the sales data, generate a heatmap to visualize the variation in sales across different months and\n",
        "days.'''\n",
        "np.random.seed(20)\n",
        "data = {\n",
        "    'Month': np.random.choice(['Jan', 'Feb', 'Mar', 'Apr', 'May'], 100),\n",
        "    'Day': np.random.choice(range(1, 31), 100),\n",
        "    'Sales': np.random.randint(1000, 5000, 100)\n",
        "}\n",
        "df = pd.DataFrame(data)\n",
        "heatmap_data=df.pivot_table(index='Day', columns='Month', values='Sales', aggfunc='sum')\n",
        "fig=px.imshow(heatmap_data, labels={'x':\"Month\", 'y':\"Day\", 'color':\"Sales\"}, title='Sales Variation Across Months and Days')\n",
        "fig.show()"
      ],
      "metadata": {
        "id": "Ar_v2x3TZcgt"
      },
      "execution_count": null,
      "outputs": []
    },
    {
      "cell_type": "code",
      "source": [
        "'''Q4-Using the given x and y data, generate a 3D surface plot to visualize the function'''\n",
        "x = np.linspace(-5, 5, 100)\n",
        "y = np.linspace(-5, 5, 100)\n",
        "x, y = np.meshgrid(x, y)\n",
        "z = np.sin(np.sqrt(x**2 + y**2))\n",
        "data = {\n",
        "    'X': x.flatten(),\n",
        "    'Y': y.flatten(),\n",
        "    'Z': z.flatten()\n",
        "}\n",
        "df = pd.DataFrame(data)\n",
        "fig = go.Figure(data=[go.Surface(z=z, x=x, y=y)])\n",
        "fig.show()"
      ],
      "metadata": {
        "id": "n9e5fHqtaVc5"
      },
      "execution_count": null,
      "outputs": []
    },
    {
      "cell_type": "code",
      "source": [
        "'''Q5-Using the given dataset, create a bubble chart to represent each country's population (y-axis), GDP (x\u0002axis), and bubble size proportional to the population'''\n",
        "np.random.seed(25)\n",
        "data = {\n",
        "    'Country': ['USA', 'Canada', 'UK',\n",
        "'Germany', 'France'],\n",
        "    'Population':\n",
        "np.random.randint(100, 1000, 5),\n",
        "    'GDP': np.random.randint(500, 2000,\n",
        "5)\n",
        "}\n",
        "df = pd.DataFrame(data)\n",
        "fig = px.scatter(df, x='GDP', y='Population', size='Population', title='Bubble Chart of Countries by Population and GDP',\n",
        "                 labels={'X': 'GDP', 'Y': 'Population'},\n",
        "                 size_max=60)\n",
        "fig.show()"
      ],
      "metadata": {
        "id": "WLIgXdW7a3Py"
      },
      "execution_count": null,
      "outputs": []
    },
    {
      "cell_type": "code",
      "source": [
        "pip install bokeh"
      ],
      "metadata": {
        "id": "aq95mpJhf88B"
      },
      "execution_count": null,
      "outputs": []
    },
    {
      "cell_type": "code",
      "source": [
        "#BOKEH ASSIGNMENT:-\n",
        "import bokeh.io\n",
        "import bokeh.plotting\n",
        "bokeh.io.output_notebook()\n",
        "from bokeh.models import ColumnDataSource\n",
        "from bokeh.plotting import figure, show"
      ],
      "metadata": {
        "id": "MSnw93U0bbkO"
      },
      "execution_count": null,
      "outputs": []
    },
    {
      "cell_type": "code",
      "source": [
        "'''Q1-.Create a Bokeh plot displaying a sine wave. Set x-values from 0 to 10 and y-values as the sine of x.'''\n",
        "x=np.linspace(0,10,100)\n",
        "y = np.sin(x)\n",
        "p = figure(title='Sine Wave Function', x_axis_label='X-axis', y_axis_label='Y-axis')\n",
        "p.line(x, y)\n",
        "show(p)"
      ],
      "metadata": {
        "id": "5a3tmbsre20D"
      },
      "execution_count": null,
      "outputs": []
    },
    {
      "cell_type": "code",
      "source": [
        "'''Q2-Create a Bokeh scatter plot using randomly generated x and y values. Use different sizes and colors for the\n",
        "markers based on the 'sizes' and 'colors' columns'''\n",
        "np.random.seed(42)\n",
        "data = {\n",
        "    'x': np.random.random(100),\n",
        "    'y': np.random.random(100),\n",
        "    'sizes': np.random.randint(10, 50, 100),\n",
        "    'colors': np.random.choice(['red', 'blue', 'green', 'purple', 'orange'], 100)\n",
        "}\n",
        "df = pd.DataFrame(data)\n",
        "source = ColumnDataSource(df)\n",
        "p=figure(title=\"Scatter Plot with Variable Sizes and Colors\", x_axis_label='x', y_axis_label='y')\n",
        "p.scatter('x', 'y', size='sizes', color='colors',source=source, legend_field='colors')\n",
        "show(p)"
      ],
      "metadata": {
        "id": "Xu3LYnmJgDST"
      },
      "execution_count": null,
      "outputs": []
    },
    {
      "cell_type": "code",
      "source": [
        "'''Q3- Generate a Bokeh bar chart representing the counts of different fruits using the following datase'''\n",
        "fruits = ['Apples', 'Oranges', 'Bananas', 'Pears']\n",
        "counts = [20, 25, 30, 35]\n",
        "source=pd.DataFrame({'fruits':fruits,'counts':counts})\n",
        "p=figure(x_range=fruits, title=\"Fruit Counts\", x_axis_label='Fruit', y_axis_label='Count')\n",
        "p.vbar(x='fruits', top='counts', width=0.9, source=source)\n",
        "show(p)\n"
      ],
      "metadata": {
        "id": "ZNQT8JuciP1o"
      },
      "execution_count": null,
      "outputs": []
    },
    {
      "cell_type": "code",
      "source": [
        "'''Q4-Create a Bokeh histogram to visualize the distribution of the given data'''\n",
        "data_hist = np.random.randn(1000)\n",
        "hist, edges = np.histogram(data_hist, bins=30)\n",
        "p=figure(title=\"Histogram\", x_axis_label='Value', y_axis_label='Frequency')\n",
        "p.quad(top=hist, bottom=0, left=edges[:-1], right=edges[1:], fill_color=\"Grey\", line_color=\"r\", alpha=0.5)\n",
        "show(p)"
      ],
      "metadata": {
        "id": "7OB8dF9Fi5XO"
      },
      "execution_count": null,
      "outputs": []
    },
    {
      "cell_type": "code",
      "source": [
        "'''Q5- Create a Bokeh heatmap using the provided dataset'''\n",
        "data_heatmap = np.random.rand(10, 10)\n",
        "x = np.linspace(0, 1, 10)\n",
        "y = np.linspace(0, 1, 10)\n",
        "xx, yy = np.meshgrid(x, y)\n",
        "p=figure(title=\"Heatmap\", x_axis_label='X', y_axis_label='Y')\n",
        "p.image(image=[data_heatmap], x=0, y=0, dw=1, dh=1, palette=\"Viridis256\")\n",
        "show(p)"
      ],
      "metadata": {
        "id": "EnYeieA-k6-3"
      },
      "execution_count": null,
      "outputs": []
    }
  ]
}